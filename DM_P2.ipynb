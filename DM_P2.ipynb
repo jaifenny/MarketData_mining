{
 "cells": [
  {
   "cell_type": "markdown",
   "id": "4b949512",
   "metadata": {},
   "source": [
    "由顧客資料(marketData)，瞭解客戶，\n",
    "顧客資料包含: CustomerID、Age、Gender、Annual Income、Spending Score，\n",
    "Spending Score: 根據顧客行為和購買物品所設定。"
   ]
  },
  {
   "cell_type": "markdown",
   "id": "fa10342d",
   "metadata": {},
   "source": [
    "### K-means Clustering"
   ]
  },
  {
   "cell_type": "code",
   "execution_count": 1,
   "id": "4abb67e0",
   "metadata": {},
   "outputs": [],
   "source": [
    "import matplotlib.pyplot as plt\n",
    "import numpy as np\n",
    "import pandas as pd\n",
    "from sklearn import cluster"
   ]
  },
  {
   "cell_type": "code",
   "execution_count": 2,
   "id": "5d7da4de",
   "metadata": {},
   "outputs": [],
   "source": [
    "%matplotlib inline"
   ]
  },
  {
   "cell_type": "markdown",
   "id": "a3d59bb7",
   "metadata": {},
   "source": [
    "###  Data"
   ]
  },
  {
   "cell_type": "code",
   "execution_count": 3,
   "id": "30504c20",
   "metadata": {},
   "outputs": [],
   "source": [
    "inputPath = r\"C:\\Users\\owner\\Desktop\\資料採掘\\hw\\P2\\DM23_P2\\DM23_P2\\data\\\\\""
   ]
  },
  {
   "cell_type": "code",
   "execution_count": 4,
   "id": "669f7553",
   "metadata": {},
   "outputs": [
    {
     "data": {
      "text/html": [
       "<div>\n",
       "<style scoped>\n",
       "    .dataframe tbody tr th:only-of-type {\n",
       "        vertical-align: middle;\n",
       "    }\n",
       "\n",
       "    .dataframe tbody tr th {\n",
       "        vertical-align: top;\n",
       "    }\n",
       "\n",
       "    .dataframe thead th {\n",
       "        text-align: right;\n",
       "    }\n",
       "</style>\n",
       "<table border=\"1\" class=\"dataframe\">\n",
       "  <thead>\n",
       "    <tr style=\"text-align: right;\">\n",
       "      <th></th>\n",
       "      <th>CustomerID</th>\n",
       "      <th>Gender</th>\n",
       "      <th>Age</th>\n",
       "      <th>Annual Income (k$)</th>\n",
       "      <th>Spending Score (1-100)</th>\n",
       "    </tr>\n",
       "  </thead>\n",
       "  <tbody>\n",
       "    <tr>\n",
       "      <th>0</th>\n",
       "      <td>1</td>\n",
       "      <td>Male</td>\n",
       "      <td>19</td>\n",
       "      <td>15</td>\n",
       "      <td>39</td>\n",
       "    </tr>\n",
       "    <tr>\n",
       "      <th>1</th>\n",
       "      <td>2</td>\n",
       "      <td>Male</td>\n",
       "      <td>21</td>\n",
       "      <td>15</td>\n",
       "      <td>81</td>\n",
       "    </tr>\n",
       "    <tr>\n",
       "      <th>2</th>\n",
       "      <td>3</td>\n",
       "      <td>Female</td>\n",
       "      <td>20</td>\n",
       "      <td>16</td>\n",
       "      <td>6</td>\n",
       "    </tr>\n",
       "    <tr>\n",
       "      <th>3</th>\n",
       "      <td>4</td>\n",
       "      <td>Female</td>\n",
       "      <td>23</td>\n",
       "      <td>16</td>\n",
       "      <td>77</td>\n",
       "    </tr>\n",
       "    <tr>\n",
       "      <th>4</th>\n",
       "      <td>5</td>\n",
       "      <td>Female</td>\n",
       "      <td>31</td>\n",
       "      <td>17</td>\n",
       "      <td>40</td>\n",
       "    </tr>\n",
       "    <tr>\n",
       "      <th>...</th>\n",
       "      <td>...</td>\n",
       "      <td>...</td>\n",
       "      <td>...</td>\n",
       "      <td>...</td>\n",
       "      <td>...</td>\n",
       "    </tr>\n",
       "    <tr>\n",
       "      <th>195</th>\n",
       "      <td>196</td>\n",
       "      <td>Female</td>\n",
       "      <td>35</td>\n",
       "      <td>120</td>\n",
       "      <td>79</td>\n",
       "    </tr>\n",
       "    <tr>\n",
       "      <th>196</th>\n",
       "      <td>197</td>\n",
       "      <td>Female</td>\n",
       "      <td>45</td>\n",
       "      <td>126</td>\n",
       "      <td>28</td>\n",
       "    </tr>\n",
       "    <tr>\n",
       "      <th>197</th>\n",
       "      <td>198</td>\n",
       "      <td>Male</td>\n",
       "      <td>32</td>\n",
       "      <td>126</td>\n",
       "      <td>74</td>\n",
       "    </tr>\n",
       "    <tr>\n",
       "      <th>198</th>\n",
       "      <td>199</td>\n",
       "      <td>Male</td>\n",
       "      <td>32</td>\n",
       "      <td>137</td>\n",
       "      <td>18</td>\n",
       "    </tr>\n",
       "    <tr>\n",
       "      <th>199</th>\n",
       "      <td>200</td>\n",
       "      <td>Male</td>\n",
       "      <td>30</td>\n",
       "      <td>137</td>\n",
       "      <td>83</td>\n",
       "    </tr>\n",
       "  </tbody>\n",
       "</table>\n",
       "<p>200 rows × 5 columns</p>\n",
       "</div>"
      ],
      "text/plain": [
       "     CustomerID  Gender  Age  Annual Income (k$)  Spending Score (1-100)\n",
       "0             1    Male   19                  15                      39\n",
       "1             2    Male   21                  15                      81\n",
       "2             3  Female   20                  16                       6\n",
       "3             4  Female   23                  16                      77\n",
       "4             5  Female   31                  17                      40\n",
       "..          ...     ...  ...                 ...                     ...\n",
       "195         196  Female   35                 120                      79\n",
       "196         197  Female   45                 126                      28\n",
       "197         198    Male   32                 126                      74\n",
       "198         199    Male   32                 137                      18\n",
       "199         200    Male   30                 137                      83\n",
       "\n",
       "[200 rows x 5 columns]"
      ]
     },
     "execution_count": 4,
     "metadata": {},
     "output_type": "execute_result"
    }
   ],
   "source": [
    "import pandas as pd\n",
    "# 读取数据\n",
    "marketData_df = pd.read_csv(inputPath + \"marketData.csv\")\n",
    "marketData_df"
   ]
  },
  {
   "cell_type": "markdown",
   "id": "3eb19c58",
   "metadata": {},
   "source": [
    "### 1. \n",
    "從marketData 的資料中，取女性客戶的兩個欄位: Age、Spending Score 進行客戶分群，\n",
    "請使用K-means 分群法，當K = 2 時，請列出每一群的中心點，例如C1中心點: Age=33.3、Spending Score=87.1。2 個中心點的列表請根據中心點的Age 數值升冪排序。"
   ]
  },
  {
   "cell_type": "code",
   "execution_count": 5,
   "id": "d6424554",
   "metadata": {},
   "outputs": [
    {
     "data": {
      "text/html": [
       "<div>\n",
       "<style scoped>\n",
       "    .dataframe tbody tr th:only-of-type {\n",
       "        vertical-align: middle;\n",
       "    }\n",
       "\n",
       "    .dataframe tbody tr th {\n",
       "        vertical-align: top;\n",
       "    }\n",
       "\n",
       "    .dataframe thead th {\n",
       "        text-align: right;\n",
       "    }\n",
       "</style>\n",
       "<table border=\"1\" class=\"dataframe\">\n",
       "  <thead>\n",
       "    <tr style=\"text-align: right;\">\n",
       "      <th></th>\n",
       "      <th>Age</th>\n",
       "      <th>Spending Score (1-100)</th>\n",
       "    </tr>\n",
       "  </thead>\n",
       "  <tbody>\n",
       "    <tr>\n",
       "      <th>2</th>\n",
       "      <td>20</td>\n",
       "      <td>6</td>\n",
       "    </tr>\n",
       "    <tr>\n",
       "      <th>3</th>\n",
       "      <td>23</td>\n",
       "      <td>77</td>\n",
       "    </tr>\n",
       "    <tr>\n",
       "      <th>4</th>\n",
       "      <td>31</td>\n",
       "      <td>40</td>\n",
       "    </tr>\n",
       "    <tr>\n",
       "      <th>5</th>\n",
       "      <td>22</td>\n",
       "      <td>76</td>\n",
       "    </tr>\n",
       "    <tr>\n",
       "      <th>6</th>\n",
       "      <td>35</td>\n",
       "      <td>6</td>\n",
       "    </tr>\n",
       "    <tr>\n",
       "      <th>...</th>\n",
       "      <td>...</td>\n",
       "      <td>...</td>\n",
       "    </tr>\n",
       "    <tr>\n",
       "      <th>191</th>\n",
       "      <td>32</td>\n",
       "      <td>69</td>\n",
       "    </tr>\n",
       "    <tr>\n",
       "      <th>193</th>\n",
       "      <td>38</td>\n",
       "      <td>91</td>\n",
       "    </tr>\n",
       "    <tr>\n",
       "      <th>194</th>\n",
       "      <td>47</td>\n",
       "      <td>16</td>\n",
       "    </tr>\n",
       "    <tr>\n",
       "      <th>195</th>\n",
       "      <td>35</td>\n",
       "      <td>79</td>\n",
       "    </tr>\n",
       "    <tr>\n",
       "      <th>196</th>\n",
       "      <td>45</td>\n",
       "      <td>28</td>\n",
       "    </tr>\n",
       "  </tbody>\n",
       "</table>\n",
       "<p>112 rows × 2 columns</p>\n",
       "</div>"
      ],
      "text/plain": [
       "     Age  Spending Score (1-100)\n",
       "2     20                       6\n",
       "3     23                      77\n",
       "4     31                      40\n",
       "5     22                      76\n",
       "6     35                       6\n",
       "..   ...                     ...\n",
       "191   32                      69\n",
       "193   38                      91\n",
       "194   47                      16\n",
       "195   35                      79\n",
       "196   45                      28\n",
       "\n",
       "[112 rows x 2 columns]"
      ]
     },
     "execution_count": 5,
     "metadata": {},
     "output_type": "execute_result"
    }
   ],
   "source": [
    "from sklearn.cluster import KMeans\n",
    "\n",
    "# 選取女性客戶的資料\n",
    "female_customers = marketData_df[marketData_df['Gender'] == 'Female'][['Age', 'Spending Score (1-100)']]\n",
    "female_customers\n"
   ]
  },
  {
   "cell_type": "code",
   "execution_count": 6,
   "id": "6d7924d3",
   "metadata": {},
   "outputs": [
    {
     "name": "stdout",
     "output_type": "stream",
     "text": [
      "每一群的中心點:\n",
      "         Age  Spending Score (1-100)\n",
      "0  29.076923               78.179487\n",
      "1  42.917808               37.287671\n"
     ]
    },
    {
     "data": {
      "text/html": [
       "<div>\n",
       "<style scoped>\n",
       "    .dataframe tbody tr th:only-of-type {\n",
       "        vertical-align: middle;\n",
       "    }\n",
       "\n",
       "    .dataframe tbody tr th {\n",
       "        vertical-align: top;\n",
       "    }\n",
       "\n",
       "    .dataframe thead th {\n",
       "        text-align: right;\n",
       "    }\n",
       "</style>\n",
       "<table border=\"1\" class=\"dataframe\">\n",
       "  <thead>\n",
       "    <tr style=\"text-align: right;\">\n",
       "      <th></th>\n",
       "      <th>Age</th>\n",
       "      <th>Spending Score (1-100)</th>\n",
       "    </tr>\n",
       "  </thead>\n",
       "  <tbody>\n",
       "    <tr>\n",
       "      <th>0</th>\n",
       "      <td>29.076923</td>\n",
       "      <td>78.179487</td>\n",
       "    </tr>\n",
       "    <tr>\n",
       "      <th>1</th>\n",
       "      <td>42.917808</td>\n",
       "      <td>37.287671</td>\n",
       "    </tr>\n",
       "  </tbody>\n",
       "</table>\n",
       "</div>"
      ],
      "text/plain": [
       "         Age  Spending Score (1-100)\n",
       "0  29.076923               78.179487\n",
       "1  42.917808               37.287671"
      ]
     },
     "execution_count": 6,
     "metadata": {},
     "output_type": "execute_result"
    }
   ],
   "source": [
    "# 使用K-means進行分群，K=2\n",
    "k_means = KMeans(n_clusters=2, random_state=1)\n",
    "k_means.fit(female_customers)\n",
    "\n",
    "# 取得每一群的中心點\n",
    "centers = pd.DataFrame(k_means.cluster_centers_, columns=['Age', 'Spending Score (1-100)'])\n",
    "\n",
    "# 根據中心點的Age數值升冪排序\n",
    "centers_sorted = centers.sort_values(by='Age').reset_index(drop=True)\n",
    "\n",
    "# 列印結果\n",
    "print(\"每一群的中心點:\")\n",
    "print(centers_sorted)\n",
    "centers_sorted\n"
   ]
  },
  {
   "cell_type": "markdown",
   "id": "c559a2ce",
   "metadata": {},
   "source": [
    "### 2. \n",
    "承第1題，請利用Elbow 方法找出K 應該設置多少？"
   ]
  },
  {
   "cell_type": "code",
   "execution_count": 7,
   "id": "3868c46f",
   "metadata": {
    "scrolled": false
   },
   "outputs": [
    {
     "data": {
      "image/png": "[encoded data removed]",
      "text/plain": [
       "<Figure size 640x480 with 1 Axes>"
      ]
     },
     "metadata": {},
     "output_type": "display_data"
    }
   ],
   "source": [
    "import matplotlib.pyplot as plt\n",
    "from sklearn.cluster import KMeans\n",
    "\n",
    "# 初始化KMeans模型，嘗試不同的K值\n",
    "k_values = range(2, 11)\n",
    "sse = []\n",
    "\n",
    "for k in k_values:\n",
    "    kmeans = KMeans(n_clusters=k, random_state=1)\n",
    "    kmeans.fit(female_customers)\n",
    "    sse.append(kmeans.inertia_)  # inertia_ 存儲了每個樣本到其簇中心的距離平方和\n",
    "    \n",
    "# 繪製Elbow圖\n",
    "plt.plot(k_values, sse, marker='o')\n",
    "plt.xlabel('Number of Clusters (K)')\n",
    "plt.ylabel('Sum of Squared Error (SSE)')\n",
    "plt.title('Elbow Method for Optimal K')\n",
    "plt.show()\n"
   ]
  },
  {
   "cell_type": "code",
   "execution_count": 8,
   "id": "3f7b1c9b",
   "metadata": {},
   "outputs": [
    {
     "data": {
      "image/png": "[encoded data removed]",
      "text/plain": [
       "<Figure size 640x480 with 1 Axes>"
      ]
     },
     "metadata": {},
     "output_type": "display_data"
    }
   ],
   "source": [
    "# 計算相鄰點之間的SSE差異\n",
    "sse_diff = np.diff(sse)\n",
    "\n",
    "plt.plot(range(2, 10), sse_diff, marker='o')\n",
    "plt.xlabel('Number of Clusters (K)')\n",
    "plt.ylabel('SSE Difference')\n",
    "plt.title('SSE Difference Plot')\n",
    "plt.show()"
   ]
  },
  {
   "cell_type": "markdown",
   "id": "0327218e",
   "metadata": {},
   "source": [
    "### 3.\n",
    "從marketData 的資料中，取所有客戶的三個欄位: Age、Annual Income (k)、Spending Score (1-100) 進行客戶分群，\n",
    "請使用K-means 分群法，當K = 3 時，請列出每一群的中心點，\n",
    "例如C1中心點: Age=33.3、Annual Income (k)=87.1、Spending Score (1-100)=88.1。\n",
    "3 個中心點的列表請根據中心點的Age 數值升冪排序。"
   ]
  },
  {
   "cell_type": "code",
   "execution_count": 9,
   "id": "74d226bb",
   "metadata": {},
   "outputs": [
    {
     "data": {
      "text/html": [
       "<div>\n",
       "<style scoped>\n",
       "    .dataframe tbody tr th:only-of-type {\n",
       "        vertical-align: middle;\n",
       "    }\n",
       "\n",
       "    .dataframe tbody tr th {\n",
       "        vertical-align: top;\n",
       "    }\n",
       "\n",
       "    .dataframe thead th {\n",
       "        text-align: right;\n",
       "    }\n",
       "</style>\n",
       "<table border=\"1\" class=\"dataframe\">\n",
       "  <thead>\n",
       "    <tr style=\"text-align: right;\">\n",
       "      <th></th>\n",
       "      <th>Age</th>\n",
       "      <th>Annual Income (k$)</th>\n",
       "      <th>Spending Score (1-100)</th>\n",
       "    </tr>\n",
       "  </thead>\n",
       "  <tbody>\n",
       "    <tr>\n",
       "      <th>0</th>\n",
       "      <td>19</td>\n",
       "      <td>15</td>\n",
       "      <td>39</td>\n",
       "    </tr>\n",
       "    <tr>\n",
       "      <th>1</th>\n",
       "      <td>21</td>\n",
       "      <td>15</td>\n",
       "      <td>81</td>\n",
       "    </tr>\n",
       "    <tr>\n",
       "      <th>2</th>\n",
       "      <td>20</td>\n",
       "      <td>16</td>\n",
       "      <td>6</td>\n",
       "    </tr>\n",
       "    <tr>\n",
       "      <th>3</th>\n",
       "      <td>23</td>\n",
       "      <td>16</td>\n",
       "      <td>77</td>\n",
       "    </tr>\n",
       "    <tr>\n",
       "      <th>4</th>\n",
       "      <td>31</td>\n",
       "      <td>17</td>\n",
       "      <td>40</td>\n",
       "    </tr>\n",
       "    <tr>\n",
       "      <th>...</th>\n",
       "      <td>...</td>\n",
       "      <td>...</td>\n",
       "      <td>...</td>\n",
       "    </tr>\n",
       "    <tr>\n",
       "      <th>195</th>\n",
       "      <td>35</td>\n",
       "      <td>120</td>\n",
       "      <td>79</td>\n",
       "    </tr>\n",
       "    <tr>\n",
       "      <th>196</th>\n",
       "      <td>45</td>\n",
       "      <td>126</td>\n",
       "      <td>28</td>\n",
       "    </tr>\n",
       "    <tr>\n",
       "      <th>197</th>\n",
       "      <td>32</td>\n",
       "      <td>126</td>\n",
       "      <td>74</td>\n",
       "    </tr>\n",
       "    <tr>\n",
       "      <th>198</th>\n",
       "      <td>32</td>\n",
       "      <td>137</td>\n",
       "      <td>18</td>\n",
       "    </tr>\n",
       "    <tr>\n",
       "      <th>199</th>\n",
       "      <td>30</td>\n",
       "      <td>137</td>\n",
       "      <td>83</td>\n",
       "    </tr>\n",
       "  </tbody>\n",
       "</table>\n",
       "<p>200 rows × 3 columns</p>\n",
       "</div>"
      ],
      "text/plain": [
       "     Age  Annual Income (k$)  Spending Score (1-100)\n",
       "0     19                  15                      39\n",
       "1     21                  15                      81\n",
       "2     20                  16                       6\n",
       "3     23                  16                      77\n",
       "4     31                  17                      40\n",
       "..   ...                 ...                     ...\n",
       "195   35                 120                      79\n",
       "196   45                 126                      28\n",
       "197   32                 126                      74\n",
       "198   32                 137                      18\n",
       "199   30                 137                      83\n",
       "\n",
       "[200 rows x 3 columns]"
      ]
     },
     "execution_count": 9,
     "metadata": {},
     "output_type": "execute_result"
    }
   ],
   "source": [
    "# 選取所有客戶的資料\n",
    "all_customers = marketData_df[['Age', 'Annual Income (k$)', 'Spending Score (1-100)']]\n",
    "all_customers\n"
   ]
  },
  {
   "cell_type": "code",
   "execution_count": 10,
   "id": "1a10056f",
   "metadata": {},
   "outputs": [
    {
     "name": "stdout",
     "output_type": "stream",
     "text": [
      "每一群的中心點:\n",
      "         Age  Annual Income (k$)  Spending Score (1-100)\n",
      "0  32.692308           86.538462               82.128205\n",
      "1  40.325203           44.154472               49.829268\n",
      "2  40.394737           87.000000               18.631579\n"
     ]
    },
    {
     "data": {
      "text/html": [
       "<div>\n",
       "<style scoped>\n",
       "    .dataframe tbody tr th:only-of-type {\n",
       "        vertical-align: middle;\n",
       "    }\n",
       "\n",
       "    .dataframe tbody tr th {\n",
       "        vertical-align: top;\n",
       "    }\n",
       "\n",
       "    .dataframe thead th {\n",
       "        text-align: right;\n",
       "    }\n",
       "</style>\n",
       "<table border=\"1\" class=\"dataframe\">\n",
       "  <thead>\n",
       "    <tr style=\"text-align: right;\">\n",
       "      <th></th>\n",
       "      <th>Age</th>\n",
       "      <th>Annual Income (k$)</th>\n",
       "      <th>Spending Score (1-100)</th>\n",
       "    </tr>\n",
       "  </thead>\n",
       "  <tbody>\n",
       "    <tr>\n",
       "      <th>0</th>\n",
       "      <td>32.692308</td>\n",
       "      <td>86.538462</td>\n",
       "      <td>82.128205</td>\n",
       "    </tr>\n",
       "    <tr>\n",
       "      <th>1</th>\n",
       "      <td>40.325203</td>\n",
       "      <td>44.154472</td>\n",
       "      <td>49.829268</td>\n",
       "    </tr>\n",
       "    <tr>\n",
       "      <th>2</th>\n",
       "      <td>40.394737</td>\n",
       "      <td>87.000000</td>\n",
       "      <td>18.631579</td>\n",
       "    </tr>\n",
       "  </tbody>\n",
       "</table>\n",
       "</div>"
      ],
      "text/plain": [
       "         Age  Annual Income (k$)  Spending Score (1-100)\n",
       "0  32.692308           86.538462               82.128205\n",
       "1  40.325203           44.154472               49.829268\n",
       "2  40.394737           87.000000               18.631579"
      ]
     },
     "execution_count": 10,
     "metadata": {},
     "output_type": "execute_result"
    }
   ],
   "source": [
    "# 使用K-means進行分群，K=3\n",
    "k_means_all = KMeans(n_clusters=3, random_state=1)\n",
    "k_means_all.fit(all_customers)\n",
    "\n",
    "# 取得每一群的中心點\n",
    "centers_all = pd.DataFrame(k_means_all.cluster_centers_, columns=['Age', 'Annual Income (k$)', 'Spending Score (1-100)'])\n",
    "\n",
    "# 根據中心點的Age數值升冪排序並重新設定index\n",
    "centers_all_sorted = centers_all.sort_values(by='Age').reset_index(drop=True)\n",
    "\n",
    "# 列印結果\n",
    "print(\"每一群的中心點:\")\n",
    "print(centers_all_sorted)\n",
    "centers_all_sorted"
   ]
  },
  {
   "cell_type": "markdown",
   "id": "1e244338",
   "metadata": {},
   "source": [
    "### 4.\n",
    "承第3題，請利用Elbow 方法找出K 應該設置多少？"
   ]
  },
  {
   "cell_type": "code",
   "execution_count": 11,
   "id": "e4b8d463",
   "metadata": {},
   "outputs": [
    {
     "data": {
      "image/png": "[encoded data removed]",
      "text/plain": [
       "<Figure size 640x480 with 1 Axes>"
      ]
     },
     "metadata": {},
     "output_type": "display_data"
    }
   ],
   "source": [
    "# 初始化KMeans模型，嘗試不同的K值\n",
    "k_values = range(2, 11)\n",
    "sse = []\n",
    "\n",
    "for k in k_values:\n",
    "    kmeans = KMeans(n_clusters=k, random_state=1)\n",
    "    kmeans.fit(all_customers)\n",
    "    sse.append(kmeans.inertia_)  # inertia_ 存儲了每個樣本到其簇中心的距離平方和\n",
    "\n",
    "# 繪製Elbow圖\n",
    "plt.plot(k_values, sse, marker='o')\n",
    "plt.xlabel('Number of Clusters (K)')\n",
    "plt.ylabel('Sum of Squared Error (SSE)')\n",
    "plt.title('Elbow Method for Optimal K')\n",
    "plt.show()\n"
   ]
  },
  {
   "cell_type": "code",
   "execution_count": 12,
   "id": "b9861dd1",
   "metadata": {
    "scrolled": false
   },
   "outputs": [
    {
     "data": {
      "image/png": "[encoded data removed]",
      "text/plain": [
       "<Figure size 640x480 with 1 Axes>"
      ]
     },
     "metadata": {},
     "output_type": "display_data"
    }
   ],
   "source": [
    "# 計算相鄰點之間的SSE差異\n",
    "sse_diff = np.diff(sse)\n",
    "\n",
    "plt.plot(range(2, 10), sse_diff, marker='o')\n",
    "plt.xlabel('Number of Clusters (K)')\n",
    "plt.ylabel('SSE Difference')\n",
    "plt.title('SSE Difference Plot')\n",
    "plt.show()\n"
   ]
  },
  {
   "cell_type": "markdown",
   "id": "4212f694",
   "metadata": {},
   "source": [
    "### 5.\n",
    "承第4題的K值設置，假設現在有一個行銷活動，請問要怎麼透過K-means 分群結果進行篩選，選擇一群目標客群，請列出此群的中心點，並解釋理由。"
   ]
  },
  {
   "cell_type": "code",
   "execution_count": 13,
   "id": "e54e5cdc",
   "metadata": {},
   "outputs": [
    {
     "name": "stdout",
     "output_type": "stream",
     "text": [
      "每一群的中心點:\n",
      "     Age  Annual Income (k$)  Spending Score (1-100)\n",
      "0  27.00               56.66                   49.13\n",
      "1  41.69               88.23                   17.29\n",
      "2  32.69               86.54                   82.13\n",
      "3  56.16               53.38                   49.09\n",
      "4  44.14               25.14                   19.52\n",
      "5  25.27               25.73                   79.36\n"
     ]
    },
    {
     "data": {
      "text/html": [
       "<div>\n",
       "<style scoped>\n",
       "    .dataframe tbody tr th:only-of-type {\n",
       "        vertical-align: middle;\n",
       "    }\n",
       "\n",
       "    .dataframe tbody tr th {\n",
       "        vertical-align: top;\n",
       "    }\n",
       "\n",
       "    .dataframe thead th {\n",
       "        text-align: right;\n",
       "    }\n",
       "</style>\n",
       "<table border=\"1\" class=\"dataframe\">\n",
       "  <thead>\n",
       "    <tr style=\"text-align: right;\">\n",
       "      <th></th>\n",
       "      <th>Age</th>\n",
       "      <th>Annual Income (k$)</th>\n",
       "      <th>Spending Score (1-100)</th>\n",
       "    </tr>\n",
       "  </thead>\n",
       "  <tbody>\n",
       "    <tr>\n",
       "      <th>0</th>\n",
       "      <td>27.00</td>\n",
       "      <td>56.66</td>\n",
       "      <td>49.13</td>\n",
       "    </tr>\n",
       "    <tr>\n",
       "      <th>1</th>\n",
       "      <td>41.69</td>\n",
       "      <td>88.23</td>\n",
       "      <td>17.29</td>\n",
       "    </tr>\n",
       "    <tr>\n",
       "      <th>2</th>\n",
       "      <td>32.69</td>\n",
       "      <td>86.54</td>\n",
       "      <td>82.13</td>\n",
       "    </tr>\n",
       "    <tr>\n",
       "      <th>3</th>\n",
       "      <td>56.16</td>\n",
       "      <td>53.38</td>\n",
       "      <td>49.09</td>\n",
       "    </tr>\n",
       "    <tr>\n",
       "      <th>4</th>\n",
       "      <td>44.14</td>\n",
       "      <td>25.14</td>\n",
       "      <td>19.52</td>\n",
       "    </tr>\n",
       "    <tr>\n",
       "      <th>5</th>\n",
       "      <td>25.27</td>\n",
       "      <td>25.73</td>\n",
       "      <td>79.36</td>\n",
       "    </tr>\n",
       "  </tbody>\n",
       "</table>\n",
       "</div>"
      ],
      "text/plain": [
       "     Age  Annual Income (k$)  Spending Score (1-100)\n",
       "0  27.00               56.66                   49.13\n",
       "1  41.69               88.23                   17.29\n",
       "2  32.69               86.54                   82.13\n",
       "3  56.16               53.38                   49.09\n",
       "4  44.14               25.14                   19.52\n",
       "5  25.27               25.73                   79.36"
      ]
     },
     "execution_count": 13,
     "metadata": {},
     "output_type": "execute_result"
    }
   ],
   "source": [
    "import pandas as pd\n",
    "from sklearn.cluster import KMeans\n",
    "\n",
    "# 選取所有客戶的資料\n",
    "all_customers = marketData_df[['Age', 'Annual Income (k$)', 'Spending Score (1-100)']].copy()\n",
    "\n",
    "# 使用K-means進行分群，K=6\n",
    "k_means_all = KMeans(n_clusters=6, random_state=1)\n",
    "k_means_all.fit(all_customers)\n",
    "\n",
    "# 將分群結果加入複本的資料\n",
    "all_customers['Cluster'] = k_means_all.labels_\n",
    "\n",
    "# 列印每一群的中心點\n",
    "centers_all = pd.DataFrame(k_means_all.cluster_centers_, columns=['Age', 'Annual Income (k$)', 'Spending Score (1-100)'])\n",
    "centers_all = centers_all.round(2)\n",
    "\n",
    "print(\"每一群的中心點:\")\n",
    "print(centers_all)\n",
    "centers_all"
   ]
  },
  {
   "cell_type": "markdown",
   "id": "7d484bed",
   "metadata": {},
   "source": [
    "這些中心點提供了每個群在年齡、年收入和消費分數上的平均值。透過這些資訊，你可以開始理解每個群體的特徵。例如，群 2 的中心點顯示年收入相對較高，且消費分數也相對較高，可能代表這是一個較為高價值的客戶群。相反地，群 1 的中心點顯示年收入較高，但消費分數較低，可能需要進一步的分析來理解他們的消費行為。這樣的分析可以幫助你定義行銷策略，針對不同群體制定不同的行銷活動。"
   ]
  },
  {
   "cell_type": "code",
   "execution_count": null,
   "id": "2a496b99",
   "metadata": {},
   "outputs": [],
   "source": []
  }
 ],
 "metadata": {
  "kernelspec": {
   "display_name": "Python 3 (ipykernel)",
   "language": "python",
   "name": "python3"
  },
  "language_info": {
   "codemirror_mode": {
    "name": "ipython",
    "version": 3
   },
   "file_extension": ".py",
   "mimetype": "text/x-python",
   "name": "python",
   "nbconvert_exporter": "python",
   "pygments_lexer": "ipython3",
   "version": "3.9.13"
  }
 },
 "nbformat": 4,
 "nbformat_minor": 5
}
